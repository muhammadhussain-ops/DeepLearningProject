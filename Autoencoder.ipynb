<<<<<<< HEAD
{
 "cells": [
  {
   "cell_type": "code",
   "execution_count": 2,
   "metadata": {},
   "outputs": [],
   "source": [
    "#My path\n",
    "path = '/Users/claes/Documents/Mine dokumenter/Universitet/7.semester/Deep_learning/Final project/data/dataset/Revco/'\n",
    "\n",
    "path_data = '/Users/claes/Documents/GitHub/DeepLearningProject/Data/'\n",
    "\n",
    "#Your path\n",
    "#path = '/Users/claes/Desktop/Deep_learning/Week_6'"
   ]
  },
  {
   "cell_type": "code",
   "execution_count": 4,
   "metadata": {},
   "outputs": [
    {
     "name": "stdout",
     "output_type": "stream",
     "text": [
      "    RTD  1st Suc.  Cond. Air In  Evap. In  Evap. Out  2nd Suc.  \\\n",
      "0 -70.0     -33.0          19.3     -83.0      -77.6     -44.8   \n",
      "1 -71.3     -33.0          19.2     -83.0      -80.4     -45.7   \n",
      "2 -72.4     -33.0          19.3     -83.0      -84.2     -46.8   \n",
      "3 -73.1     -33.2          19.3     -83.0      -86.1     -48.0   \n",
      "4 -74.0     -33.8          19.3     -83.0      -87.0     -49.1   \n",
      "\n",
      "   Chil. water In  2nd Sump  H.E.  SetPoint  Mains Voltage  \n",
      "0            23.1      48.8 -34.0       -80          227.0  \n",
      "1            22.7      48.7 -34.0       -80          227.0  \n",
      "2            22.8      48.6 -34.0       -80          228.0  \n",
      "3            22.5      48.5 -34.0       -80          228.0  \n",
      "4            22.4      48.4 -34.0       -80          228.0  \n"
     ]
    }
   ],
   "source": [
    "import pandas as pd\n",
    "import torch\n",
    "from torch.utils.data import Dataset, DataLoader\n",
    "from sklearn.preprocessing import MinMaxScaler\n",
    "import numpy as np\n",
    "\n",
    "# Step 1: Load the data\n",
    "df = pd.read_parquet(path + 'cleaned_data_806016.parquet')\n",
    "\n",
    "# Step 2: Preprocess the data\n",
    "# Drop the 'Datetime' column (or convert it if needed)\n",
    "df.drop(columns=['Datetime', 'State', 'Type', 'Event'], inplace=True)\n",
    "\n",
    "print(df.head(5))\n",
    "\n",
    "# Step 3: Normalize the data\n",
    "scaler = MinMaxScaler()\n",
    "data_normalized = scaler.fit_transform(df)\n",
    "\n",
    "# Step 4: Create a custom Dataset class\n",
    "class FreezerDataset(Dataset):\n",
    "    def __init__(self, data):\n",
    "        self.data = torch.tensor(data, dtype=torch.float32)\n",
    "    \n",
    "    def __len__(self):\n",
    "        return len(self.data)\n",
    "    \n",
    "    def __getitem__(self, index):\n",
    "        x = self.data[index]\n",
    "        return x, x  # For autoencoders, input and target are the same\n",
    "\n",
    "# Step 5: Create the dataset and dataloaders\n",
    "freezer_dataset = FreezerDataset(data_normalized)\n",
    "batch_size = 1024\n",
    "train_loader = DataLoader(freezer_dataset, batch_size=batch_size, shuffle=True)"
   ]
  },
  {
   "cell_type": "code",
   "execution_count": 5,
   "metadata": {},
   "outputs": [
    {
     "name": "stdout",
     "output_type": "stream",
     "text": [
      "AutoEncoder(\n",
      "  (encoder): Sequential(\n",
      "    (0): Linear(in_features=11, out_features=64, bias=True)\n",
      "    (1): ReLU()\n",
      "    (2): Linear(in_features=64, out_features=2, bias=True)\n",
      "  )\n",
      "  (decoder): Sequential(\n",
      "    (0): Linear(in_features=2, out_features=64, bias=True)\n",
      "    (1): ReLU()\n",
      "    (2): Linear(in_features=64, out_features=11, bias=True)\n",
      "  )\n",
      ")\n"
     ]
    }
   ],
   "source": [
    "import torch.nn as nn\n",
    "\n",
    "# Define the number of features (i.e., columns in your dataset)\n",
    "num_features = data_normalized.shape[1]\n",
    "\n",
    "class AutoEncoder(nn.Module):\n",
    "    def __init__(self, hidden_units, latent_features=2):\n",
    "        super(AutoEncoder, self).__init__()\n",
    "        self.encoder = nn.Sequential(\n",
    "            nn.Linear(in_features=num_features, out_features=hidden_units),\n",
    "            nn.ReLU(),\n",
    "            nn.Linear(in_features=hidden_units, out_features=latent_features)\n",
    "        )\n",
    "        self.decoder = nn.Sequential(\n",
    "            nn.Linear(in_features=latent_features, out_features=hidden_units),\n",
    "            nn.ReLU(),\n",
    "            nn.Linear(in_features=hidden_units, out_features=num_features)\n",
    "        )\n",
    "\n",
    "    def forward(self, x): \n",
    "        z = self.encoder(x)\n",
    "        x_hat = torch.sigmoid(self.decoder(z))\n",
    "        return {'z': z, 'x_hat': x_hat}\n",
    "\n",
    "# Initialize the autoencoder model\n",
    "hidden_units = 64\n",
    "latent_features = 2\n",
    "net = AutoEncoder(hidden_units, latent_features)\n",
    "cuda = torch.cuda.is_available()\n",
    "\n",
    "if cuda:\n",
    "    net = net.cuda()\n",
    "\n",
    "print(net)"
   ]
  },
  {
   "cell_type": "code",
   "execution_count": 6,
   "metadata": {},
   "outputs": [
    {
     "name": "stdout",
     "output_type": "stream",
     "text": [
      "Model is on GPU: True\n"
     ]
    }
   ],
   "source": [
    "import torch\n",
    "cuda = torch.cuda.is_available()\n",
    "print(f\"Model is on GPU: {next(net.parameters()).is_cuda}\")"
   ]
  },
  {
   "cell_type": "code",
   "execution_count": 7,
   "metadata": {},
   "outputs": [
    {
     "name": "stdout",
     "output_type": "stream",
     "text": [
      "Epoch 1/10, Loss: 0.0042\n",
      "Epoch 2/10, Loss: 0.0019\n",
      "Epoch 3/10, Loss: 0.0017\n",
      "Epoch 4/10, Loss: 0.0015\n",
      "Epoch 5/10, Loss: 0.0014\n",
      "Epoch 6/10, Loss: 0.0014\n",
      "Epoch 7/10, Loss: 0.0013\n",
      "Epoch 8/10, Loss: 0.0013\n",
      "Epoch 9/10, Loss: 0.0012\n",
      "Epoch 10/10, Loss: 0.0012\n"
     ]
    }
   ],
   "source": [
    "import torch\n",
    "import torch.optim as optim\n",
    "import torch.nn as nn\n",
    "\n",
    "# Initialize the optimizer and loss function\n",
    "optimizer = optim.Adam(net.parameters(), lr=0.001)\n",
    "loss_function = nn.MSELoss()\n",
    "\n",
    "num_epochs = 10\n",
    "train_loss = []\n",
    "\n",
    "# Move the model to the GPU if available\n",
    "if cuda:\n",
    "    net = net.cuda()\n",
    "\n",
    "for epoch in range(num_epochs):\n",
    "    batch_loss = []\n",
    "    net.train()\n",
    "    \n",
    "    for x, _ in train_loader:\n",
    "        # Move input data to GPU if available\n",
    "        if cuda:\n",
    "            x = x.cuda()\n",
    "        \n",
    "        # Forward pass\n",
    "        outputs = net(x)\n",
    "        x_hat = outputs['x_hat']\n",
    "        \n",
    "        # Compute the loss\n",
    "        loss = loss_function(x_hat, x)\n",
    "        \n",
    "        # Backward pass and optimization step\n",
    "        optimizer.zero_grad()\n",
    "        loss.backward()\n",
    "        optimizer.step()\n",
    "        \n",
    "        # Store the batch loss\n",
    "        batch_loss.append(loss.item())\n",
    "    \n",
    "    train_loss.append(np.mean(batch_loss))\n",
    "    print(f\"Epoch {epoch+1}/{num_epochs}, Loss: {train_loss[-1]:.4f}\")"
   ]
  },
  {
   "cell_type": "markdown",
   "metadata": {},
   "source": [
    "### Gem model"
   ]
  },
  {
   "cell_type": "code",
   "execution_count": 8,
   "metadata": {},
   "outputs": [
    {
     "name": "stdout",
     "output_type": "stream",
     "text": [
      "Model weights saved to autoencoder_weights.pth\n"
     ]
    }
   ],
   "source": [
    "# Save only the model's state dictionary\n",
    "model_save_path = 'autoencoder_weights.pth'\n",
    "torch.save(net.state_dict(), model_save_path)\n",
    "print(f\"Model weights saved to {model_save_path}\")"
   ]
  },
  {
   "cell_type": "markdown",
   "metadata": {},
   "source": [
    "### Hent model"
   ]
  },
  {
   "cell_type": "code",
   "execution_count": 9,
   "metadata": {},
   "outputs": [
    {
     "name": "stdout",
     "output_type": "stream",
     "text": [
      "Model weights loaded from autoencoder_weights.pth\n"
     ]
    },
    {
     "name": "stderr",
     "output_type": "stream",
     "text": [
      "C:\\Users\\claes\\AppData\\Local\\Temp\\ipykernel_21784\\1773006121.py:10: FutureWarning: You are using `torch.load` with `weights_only=False` (the current default value), which uses the default pickle module implicitly. It is possible to construct malicious pickle data which will execute arbitrary code during unpickling (See https://github.com/pytorch/pytorch/blob/main/SECURITY.md#untrusted-models for more details). In a future release, the default value for `weights_only` will be flipped to `True`. This limits the functions that could be executed during unpickling. Arbitrary objects will no longer be allowed to be loaded via this mode unless they are explicitly allowlisted by the user via `torch.serialization.add_safe_globals`. We recommend you start setting `weights_only=True` for any use case where you don't have full control of the loaded file. Please open an issue on GitHub for any issues related to this experimental feature.\n",
      "  net_loaded.load_state_dict(torch.load(model_save_path))\n"
     ]
    },
    {
     "data": {
      "text/plain": [
       "AutoEncoder(\n",
       "  (encoder): Sequential(\n",
       "    (0): Linear(in_features=11, out_features=64, bias=True)\n",
       "    (1): ReLU()\n",
       "    (2): Linear(in_features=64, out_features=2, bias=True)\n",
       "  )\n",
       "  (decoder): Sequential(\n",
       "    (0): Linear(in_features=2, out_features=64, bias=True)\n",
       "    (1): ReLU()\n",
       "    (2): Linear(in_features=64, out_features=11, bias=True)\n",
       "  )\n",
       ")"
      ]
     },
     "execution_count": 9,
     "metadata": {},
     "output_type": "execute_result"
    }
   ],
   "source": [
    "# Create a new instance of your model\n",
    "net_loaded = AutoEncoder(hidden_units=64, latent_features=2)\n",
    "\n",
    "# Move the model to GPU if available\n",
    "if cuda:\n",
    "    net_loaded = net_loaded.cuda()\n",
    "\n",
    "# Load the saved weights into the model\n",
    "model_save_path = 'autoencoder_weights.pth'\n",
    "net_loaded.load_state_dict(torch.load(model_save_path))\n",
    "print(f\"Model weights loaded from {model_save_path}\")\n",
    "\n",
    "# Set the model to evaluation mode if you are using it for inference\n",
    "net_loaded.eval()"
   ]
  },
  {
   "cell_type": "code",
   "execution_count": 10,
   "metadata": {},
   "outputs": [],
   "source": [
    "import matplotlib.pyplot as plt\n",
    "\n",
    "def detect_anomalies(data, model, threshold=0.05):\n",
    "    model.eval()\n",
    "    data_tensor = torch.tensor(data, dtype=torch.float32)\n",
    "    \n",
    "    if cuda:\n",
    "        data_tensor = data_tensor.cuda()\n",
    "    \n",
    "    with torch.no_grad():\n",
    "        outputs = model(data_tensor)\n",
    "        x_hat = outputs['x_hat']\n",
    "        reconstruction_error = torch.mean((data_tensor - x_hat) ** 2, dim=1).cpu().numpy()\n",
    "    \n",
    "    anomalies = reconstruction_error > threshold\n",
    "    return anomalies, reconstruction_error"
   ]
  },
  {
   "cell_type": "markdown",
   "metadata": {},
   "source": [
    "## Afprøve på træningsdata"
   ]
  },
  {
   "cell_type": "code",
   "execution_count": 11,
   "metadata": {},
   "outputs": [
    {
     "data": {
      "image/png": "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",
      "text/plain": [
       "<Figure size 1000x600 with 1 Axes>"
      ]
     },
     "metadata": {},
     "output_type": "display_data"
    },
    {
     "name": "stdout",
     "output_type": "stream",
     "text": [
      "Detected 74 anomalies out of 2,923,224 samples.\n"
     ]
    }
   ],
   "source": [
    "anomalies, reconstruction_errors = detect_anomalies(data_normalized, net)\n",
    "\n",
    "# Plot the reconstruction error distribution\n",
    "plt.figure(figsize=(10, 6))\n",
    "plt.hist(reconstruction_errors, bins=50, alpha=0.75)\n",
    "plt.axvline(x=0.05, color='r', linestyle='--')\n",
    "plt.title('Reconstruction Error Distribution')\n",
    "plt.xlabel('Reconstruction Error')\n",
    "plt.ylabel('Frequency')\n",
    "plt.show()\n",
    "\n",
    "# Print out the indices of anomalies\n",
    "anomaly_indices = np.where(anomalies)[0]\n",
    "print(f\"Detected {len(anomaly_indices):,} anomalies out of {len(data_normalized):,} samples.\")"
   ]
  },
  {
   "cell_type": "markdown",
   "metadata": {},
   "source": [
    "## Afprøve på valid sæt"
   ]
  },
  {
   "cell_type": "code",
   "execution_count": 13,
   "metadata": {},
   "outputs": [
    {
     "data": {
      "image/png": "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",
      "text/plain": [
       "<Figure size 1000x600 with 1 Axes>"
      ]
     },
     "metadata": {},
     "output_type": "display_data"
    },
    {
     "name": "stdout",
     "output_type": "stream",
     "text": [
      "Detected 2,496,249 anomalies out of 2,501,408 samples.\n",
      "Accuracy percentage: 99.79%\n"
     ]
    }
   ],
   "source": [
    "# Step 1: Load the data\n",
    "df = pd.read_parquet(path + 'around_events_data_806016.parquet')\n",
    "#df = pd.read_parquet('around_events_data_806018.parquet')\n",
    "\n",
    "# Step 2: Preprocess the data\n",
    "df.drop(columns=['Datetime', 'State', 'Type', 'Event'], inplace=True)\n",
    "#df.drop(columns=['Datetime', 'State', 'Type', 'Event', 'main_fault'], inplace=True)\n",
    "\n",
    "# Step 3: Normalize the data\n",
    "scaler = MinMaxScaler()\n",
    "valid_data_normalized = scaler.fit_transform(df)\n",
    "\n",
    "# Example: Detect anomalies on the training data\n",
    "anomalies, reconstruction_errors = detect_anomalies(valid_data_normalized, net)\n",
    "\n",
    "# Plot the reconstruction error distribution\n",
    "plt.figure(figsize=(10, 6))\n",
    "plt.hist(reconstruction_errors, bins=50, alpha=0.75)\n",
    "plt.axvline(x=0.05, color='r', linestyle='--')\n",
    "plt.title('Reconstruction Error Distribution')\n",
    "plt.xlabel('Reconstruction Error')\n",
    "plt.ylabel('Frequency')\n",
    "plt.show()\n",
    "\n",
    "# Print out the indices of anomalies\n",
    "anomaly_indices = np.where(anomalies)[0]\n",
    "percentage_accuracy = (len(anomaly_indices) / len(valid_data_normalized)) * 100\n",
    "print(f\"Detected {len(anomaly_indices):,} anomalies out of {len(valid_data_normalized):,} samples.\")\n",
    "print(f\"Accuracy percentage: {percentage_accuracy:.2f}%\")"
   ]
  }
 ],
 "metadata": {
  "kernelspec": {
   "display_name": "freezer",
   "language": "python",
   "name": "python3"
  },
  "language_info": {
   "codemirror_mode": {
    "name": "ipython",
    "version": 3
   },
   "file_extension": ".py",
   "mimetype": "text/x-python",
   "name": "python",
   "nbconvert_exporter": "python",
   "pygments_lexer": "ipython3",
   "version": "3.11.10"
  }
 },
 "nbformat": 4,
 "nbformat_minor": 2
}
=======
>>>>>>> parent of b94eafc (change)
