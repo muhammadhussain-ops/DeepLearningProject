{
 "cells": [
  {
   "cell_type": "code",
   "execution_count": null,
   "metadata": {
    "vscode": {
     "languageId": "plaintext"
    }
   },
   "outputs": [],
   "source": [
    "import pandas as pd\n",
    "\n",
    "# Read the Parquet file into a DataFrame\n",
    "df_temp = pd.read_parquet('806016_temp.parquet')\n",
    "\n",
    "# Display the first few rows\n",
    "df_temp.head(5)"
   ]
  },
  {
   "cell_type": "code",
   "execution_count": null,
   "metadata": {
    "vscode": {
     "languageId": "plaintext"
    }
   },
   "outputs": [],
   "source": [
    "# Read the Parquet file into a DataFrame\n",
    "df_events = pd.read_parquet('806016_events.parquet')\n",
    "\n",
    "# Display the first few rows\n",
    "df_events.head(20)"
   ]
  },
  {
   "cell_type": "code",
   "execution_count": null,
   "metadata": {
    "vscode": {
     "languageId": "plaintext"
    }
   },
   "outputs": [],
   "source": [
    "import pandas as pd\n",
    "\n",
    "Rows_remove = 100\n",
    "\n",
    "# Load your Parquet file\n",
    "df = pd.read_parquet('806016_temp.parquet')\n",
    "\n",
    "# Identify the indices where an event has occurred\n",
    "event_indices = df[df['Event'].notnull()].index\n",
    "\n",
    "# Create sets to store indices for rows to collect and keep\n",
    "indices_to_collect = set()\n",
    "for idx in event_indices:\n",
    "    # Add a range of indices around each event\n",
    "    start_idx = max(0, idx - Rows_remove)\n",
    "    end_idx = min(len(df), idx + Rows_remove)\n",
    "    indices_to_collect.update(range(start_idx, end_idx + 1))\n",
    "\n",
    "# Convert to list and sort indices (just for clarity)\n",
    "indices_to_collect = sorted(indices_to_collect)\n",
    "\n",
    "# Extract rows to collect into a separate DataFrame\n",
    "df_around_events = df.iloc[indices_to_collect]\n",
    "\n",
    "# Drop these rows from the original DataFrame to get the cleaned data\n",
    "df_cleaned = df.drop(indices_to_collect)\n",
    "\n",
    "# Save both DataFrames\n",
    "df_around_events.to_parquet('around_events_data.parquet', index=False)\n",
    "df_cleaned.to_parquet('cleaned_data.parquet', index=False)"
   ]
  },
  {
   "cell_type": "code",
   "execution_count": null,
   "metadata": {
    "vscode": {
     "languageId": "plaintext"
    }
   },
   "outputs": [],
   "source": [
    "# Read the Parquet file into a DataFrame\n",
    "df_temp = pd.read_parquet('around_events_data.parquet')\n",
    "\n",
    "pd.set_option('display.max_rows', None)\n",
    "\n",
    "# Display the first few rows\n",
    "df_temp.head(25)"
   ]
  },
  {
   "cell_type": "code",
   "execution_count": null,
   "metadata": {
    "vscode": {
     "languageId": "plaintext"
    }
   },
   "outputs": [],
   "source": [
    "import numpy as np\n",
    "\n",
    "# Parameters\n",
    "Rows_remove = 100\n",
    "start_date = '2012-03-30'\n",
    "end_date = '2012-12-01'\n",
    "\n",
    "# Read the cleaned Parquet file into a DataFrame\n",
    "df = pd.read_parquet('cleaned_data.parquet')\n",
    "\n",
    "# Convert 'Datetime' to datetime type if it's not already\n",
    "df['Datetime'] = pd.to_datetime(df['Datetime'])\n",
    "\n",
    "# Set 'Datetime' as the index for easier plotting\n",
    "df.set_index('Datetime', inplace=True)\n",
    "\n",
    "# Filter the DataFrame to the specified date range\n",
    "df_filtered = df.loc[start_date:end_date]\n",
    "\n",
    "# Select only numeric columns for plotting\n",
    "numeric_columns = df_filtered.select_dtypes(include=['float64', 'int64']).columns\n",
    "\n",
    "# Plot each numeric column separately\n",
    "for col in numeric_columns:\n",
    "    plt.figure(figsize=(12, 6))\n",
    "    plt.plot(df_filtered.index, df_filtered[col], label=col, color='blue')\n",
    "\n",
    "    # Highlight gaps caused by the removal of rows around events\n",
    "    removed_indices = np.where(df_filtered[col].isnull())[0]\n",
    "    if len(removed_indices) > 0:\n",
    "        for idx in removed_indices:\n",
    "            plt.axvline(df_filtered.index[idx], color='red', linestyle='--', alpha=0.5)\n",
    "\n",
    "    plt.title(f\"Time Series of {col} (Filtered: {start_date} to {end_date})\")\n",
    "    plt.xlabel(\"Datetime\")\n",
    "    plt.ylabel(f\"{col} Value\")\n",
    "    plt.grid(True)\n",
    "    plt.xticks(rotation=45)\n",
    "    plt.tight_layout()\n",
    "    plt.legend()\n",
    "    plt.show()"
   ]
  }
 ],
 "metadata": {
  "language_info": {
   "name": "python"
  }
 },
 "nbformat": 4,
 "nbformat_minor": 2
}
