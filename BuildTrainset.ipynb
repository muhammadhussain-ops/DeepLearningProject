{
 "cells": [
  {
   "cell_type": "code",
   "execution_count": 24,
   "metadata": {},
   "outputs": [],
   "source": [
    "#My path\n",
    "path = '/Users/mhalt/Desktop/DEEPLEARNINGPROJECT/Data/'\n",
    "\n",
    "#Your path\n",
    "#path = '/Users/claes/Desktop/Deep_learning/Week_6'"
   ]
  },
  {
   "cell_type": "markdown",
   "metadata": {},
   "source": [
    "## Lægge alle data fra hver fryser sammen, klar til autoencoder"
   ]
  },
  {
   "cell_type": "code",
   "execution_count": null,
   "metadata": {},
   "outputs": [],
   "source": [
    "import pandas as pd\n",
    "import glob\n",
    "from sklearn.preprocessing import MinMaxScaler\n",
    "\n",
    "# Step 1: Load all parquet files matching the pattern\n",
    "all_files = glob.glob(path + \"cleaned_data_*.parquet\")\n",
    "\n",
    "# Step 2: Define the columns to drop (conditionally)\n",
    "drop_columns_set_1 = ['Datetime', 'State', 'Type', 'Event']\n",
    "drop_columns_set_2 = drop_columns_set_1 + ['main_fault']\n",
    "\n",
    "# Step 3: Initialize a list to store dataframes\n",
    "dfs = []\n",
    "\n",
    "# Step 4: Load, preprocess, and concatenate data\n",
    "for file in all_files:\n",
    "    df = pd.read_parquet(file)\n",
    "    \n",
    "    # Drop columns that exist in the dataframe\n",
    "    if 'main_fault' in df.columns:\n",
    "        df.drop(columns=[col for col in drop_columns_set_2 if col in df.columns], inplace=True)\n",
    "    else:\n",
    "        df.drop(columns=[col for col in drop_columns_set_1 if col in df.columns], inplace=True)\n",
    "    \n",
    "    # Append the processed dataframe to the list\n",
    "    dfs.append(df)\n",
    "\n",
    "# Step 5: Combine all dataframes into one\n",
    "combined_df = pd.concat(dfs, axis=0, ignore_index=True)\n",
    "\n",
    "# Step 6: Normalize the combined dataset\n",
    "scaler = MinMaxScaler()\n",
    "data_normalized = scaler.fit_transform(combined_df)\n",
    "\n",
    "# Convert back to a DataFrame for easier handling (optional)\n",
    "normalized_df = pd.DataFrame(data_normalized, columns=combined_df.columns)\n",
    "\n",
    "normalized_df.to_parquet(path + 'combined_cleaned_data.parquet', index=False)\n"
   ]
  },
  {
   "cell_type": "code",
   "execution_count": 26,
   "metadata": {},
   "outputs": [
    {
     "name": "stdout",
     "output_type": "stream",
     "text": [
      "Længde af combined df: 2,923,224\n"
     ]
    }
   ],
   "source": [
    "print(f\"Længde af combined df: {normalized_df.shape[0]:,}\")"
   ]
  }
 ],
 "metadata": {
  "kernelspec": {
   "display_name": "NN",
   "language": "python",
   "name": "python3"
  },
  "language_info": {
   "codemirror_mode": {
    "name": "ipython",
    "version": 3
   },
   "file_extension": ".py",
   "mimetype": "text/x-python",
   "name": "python",
   "nbconvert_exporter": "python",
   "pygments_lexer": "ipython3",
   "version": "3.12.7"
  }
 },
 "nbformat": 4,
 "nbformat_minor": 2
}
