{
 "cells": [
  {
   "cell_type": "code",
   "execution_count": null,
   "metadata": {},
   "outputs": [],
   "source": [
    "# Step 1: Load the data\n",
    "df = pd.read_parquet('cleaned_data_806016.parquet')\n",
    "\n",
    "# Step 2: Preprocess the data\n",
    "# Drop the 'Datetime' column (or convert it if needed)\n",
    "df.drop(columns=['Datetime', 'State', 'Type', 'Event'], inplace=True)\n",
    "\n",
    "print(df.head(5))\n",
    "\n",
    "# Step 3: Normalize the data\n",
    "scaler = MinMaxScaler()\n",
    "data_normalized = scaler.fit_transform(df)"
   ]
  }
 ],
 "metadata": {
  "kernelspec": {
   "display_name": "freezer",
   "language": "python",
   "name": "python3"
  },
  "language_info": {
   "name": "python",
   "version": "3.11.10"
  }
 },
 "nbformat": 4,
 "nbformat_minor": 2
}
