{
 "cells": [
  {
   "cell_type": "code",
   "execution_count": 190,
   "metadata": {},
   "outputs": [],
   "source": [
    "import torch\n",
    "from torch import nn\n",
    "import torch.nn.functional as F\n",
    "import torch.optim as optim\n",
    "import torch.nn.init as init\n",
    "import pandas as pd\n",
    "import random\n",
    "\n",
    "%matplotlib inline\n",
    "import matplotlib\n",
    "import numpy as np\n",
    "import matplotlib.pyplot as plt\n",
    "\n",
    "from torch.nn.parameter import Parameter\n",
    "from torchvision.datasets import MNIST"
   ]
  },
  {
   "cell_type": "code",
   "execution_count": 191,
   "metadata": {},
   "outputs": [],
   "source": [
    "path = \"/Users/muhammadhussain/Desktop/DEEPLEARNINGPROJECT/Data/cleaned_data_806016.parquet\"\n",
    "df = pd.read_parquet(path)\n",
    "data = df.to_numpy()"
   ]
  },
  {
   "cell_type": "code",
   "execution_count": 192,
   "metadata": {},
   "outputs": [
    {
     "data": {
      "text/html": [
       "<div>\n",
       "<style scoped>\n",
       "    .dataframe tbody tr th:only-of-type {\n",
       "        vertical-align: middle;\n",
       "    }\n",
       "\n",
       "    .dataframe tbody tr th {\n",
       "        vertical-align: top;\n",
       "    }\n",
       "\n",
       "    .dataframe thead th {\n",
       "        text-align: right;\n",
       "    }\n",
       "</style>\n",
       "<table border=\"1\" class=\"dataframe\">\n",
       "  <thead>\n",
       "    <tr style=\"text-align: right;\">\n",
       "      <th></th>\n",
       "      <th>Datetime</th>\n",
       "      <th>RTD</th>\n",
       "      <th>1st Suc.</th>\n",
       "      <th>Cond. Air In</th>\n",
       "      <th>Evap. In</th>\n",
       "      <th>Evap. Out</th>\n",
       "      <th>2nd Suc.</th>\n",
       "      <th>Chil. water In</th>\n",
       "      <th>2nd Sump</th>\n",
       "      <th>H.E.</th>\n",
       "      <th>SetPoint</th>\n",
       "      <th>Mains Voltage</th>\n",
       "      <th>State</th>\n",
       "      <th>Type</th>\n",
       "      <th>Event</th>\n",
       "      <th>target</th>\n",
       "    </tr>\n",
       "  </thead>\n",
       "  <tbody>\n",
       "    <tr>\n",
       "      <th>0</th>\n",
       "      <td>2012-08-22 19:51:26</td>\n",
       "      <td>-70.0</td>\n",
       "      <td>-33.0</td>\n",
       "      <td>19.3</td>\n",
       "      <td>-83.0</td>\n",
       "      <td>-77.6</td>\n",
       "      <td>-44.8</td>\n",
       "      <td>23.1</td>\n",
       "      <td>48.8</td>\n",
       "      <td>-34.0</td>\n",
       "      <td>-80</td>\n",
       "      <td>227.0</td>\n",
       "      <td>3</td>\n",
       "      <td>None</td>\n",
       "      <td>None</td>\n",
       "      <td>6</td>\n",
       "    </tr>\n",
       "    <tr>\n",
       "      <th>1</th>\n",
       "      <td>2012-08-22 19:52:26</td>\n",
       "      <td>-71.3</td>\n",
       "      <td>-33.0</td>\n",
       "      <td>19.2</td>\n",
       "      <td>-83.0</td>\n",
       "      <td>-80.4</td>\n",
       "      <td>-45.7</td>\n",
       "      <td>22.7</td>\n",
       "      <td>48.7</td>\n",
       "      <td>-34.0</td>\n",
       "      <td>-80</td>\n",
       "      <td>227.0</td>\n",
       "      <td>3</td>\n",
       "      <td>None</td>\n",
       "      <td>None</td>\n",
       "      <td>9</td>\n",
       "    </tr>\n",
       "    <tr>\n",
       "      <th>2</th>\n",
       "      <td>2012-08-22 19:53:26</td>\n",
       "      <td>-72.4</td>\n",
       "      <td>-33.0</td>\n",
       "      <td>19.3</td>\n",
       "      <td>-83.0</td>\n",
       "      <td>-84.2</td>\n",
       "      <td>-46.8</td>\n",
       "      <td>22.8</td>\n",
       "      <td>48.6</td>\n",
       "      <td>-34.0</td>\n",
       "      <td>-80</td>\n",
       "      <td>228.0</td>\n",
       "      <td>3</td>\n",
       "      <td>None</td>\n",
       "      <td>None</td>\n",
       "      <td>5</td>\n",
       "    </tr>\n",
       "    <tr>\n",
       "      <th>3</th>\n",
       "      <td>2012-08-22 19:54:26</td>\n",
       "      <td>-73.1</td>\n",
       "      <td>-33.2</td>\n",
       "      <td>19.3</td>\n",
       "      <td>-83.0</td>\n",
       "      <td>-86.1</td>\n",
       "      <td>-48.0</td>\n",
       "      <td>22.5</td>\n",
       "      <td>48.5</td>\n",
       "      <td>-34.0</td>\n",
       "      <td>-80</td>\n",
       "      <td>228.0</td>\n",
       "      <td>3</td>\n",
       "      <td>None</td>\n",
       "      <td>None</td>\n",
       "      <td>4</td>\n",
       "    </tr>\n",
       "    <tr>\n",
       "      <th>4</th>\n",
       "      <td>2012-08-22 19:55:26</td>\n",
       "      <td>-74.0</td>\n",
       "      <td>-33.8</td>\n",
       "      <td>19.3</td>\n",
       "      <td>-83.0</td>\n",
       "      <td>-87.0</td>\n",
       "      <td>-49.1</td>\n",
       "      <td>22.4</td>\n",
       "      <td>48.4</td>\n",
       "      <td>-34.0</td>\n",
       "      <td>-80</td>\n",
       "      <td>228.0</td>\n",
       "      <td>3</td>\n",
       "      <td>None</td>\n",
       "      <td>None</td>\n",
       "      <td>8</td>\n",
       "    </tr>\n",
       "    <tr>\n",
       "      <th>...</th>\n",
       "      <td>...</td>\n",
       "      <td>...</td>\n",
       "      <td>...</td>\n",
       "      <td>...</td>\n",
       "      <td>...</td>\n",
       "      <td>...</td>\n",
       "      <td>...</td>\n",
       "      <td>...</td>\n",
       "      <td>...</td>\n",
       "      <td>...</td>\n",
       "      <td>...</td>\n",
       "      <td>...</td>\n",
       "      <td>...</td>\n",
       "      <td>...</td>\n",
       "      <td>...</td>\n",
       "      <td>...</td>\n",
       "    </tr>\n",
       "    <tr>\n",
       "      <th>2923219</th>\n",
       "      <td>2023-04-01 00:54:26</td>\n",
       "      <td>-80.1</td>\n",
       "      <td>-36.2</td>\n",
       "      <td>19.4</td>\n",
       "      <td>-84.3</td>\n",
       "      <td>-89.2</td>\n",
       "      <td>-54.5</td>\n",
       "      <td>26.0</td>\n",
       "      <td>28.8</td>\n",
       "      <td>-32.9</td>\n",
       "      <td>-80</td>\n",
       "      <td>224.5</td>\n",
       "      <td>3</td>\n",
       "      <td>None</td>\n",
       "      <td>None</td>\n",
       "      <td>5</td>\n",
       "    </tr>\n",
       "    <tr>\n",
       "      <th>2923220</th>\n",
       "      <td>2023-04-01 00:55:26</td>\n",
       "      <td>-80.2</td>\n",
       "      <td>-36.2</td>\n",
       "      <td>19.0</td>\n",
       "      <td>-84.4</td>\n",
       "      <td>-89.2</td>\n",
       "      <td>-54.6</td>\n",
       "      <td>25.5</td>\n",
       "      <td>28.9</td>\n",
       "      <td>-33.0</td>\n",
       "      <td>-80</td>\n",
       "      <td>225.4</td>\n",
       "      <td>3</td>\n",
       "      <td>None</td>\n",
       "      <td>None</td>\n",
       "      <td>4</td>\n",
       "    </tr>\n",
       "    <tr>\n",
       "      <th>2923221</th>\n",
       "      <td>2023-04-01 00:56:26</td>\n",
       "      <td>-80.2</td>\n",
       "      <td>-36.2</td>\n",
       "      <td>18.9</td>\n",
       "      <td>-84.4</td>\n",
       "      <td>-89.1</td>\n",
       "      <td>-54.6</td>\n",
       "      <td>25.6</td>\n",
       "      <td>28.9</td>\n",
       "      <td>-32.9</td>\n",
       "      <td>-80</td>\n",
       "      <td>225.4</td>\n",
       "      <td>3</td>\n",
       "      <td>None</td>\n",
       "      <td>None</td>\n",
       "      <td>9</td>\n",
       "    </tr>\n",
       "    <tr>\n",
       "      <th>2923222</th>\n",
       "      <td>2023-04-01 00:57:26</td>\n",
       "      <td>-80.3</td>\n",
       "      <td>-36.2</td>\n",
       "      <td>18.9</td>\n",
       "      <td>-84.4</td>\n",
       "      <td>-89.3</td>\n",
       "      <td>-54.7</td>\n",
       "      <td>26.2</td>\n",
       "      <td>28.9</td>\n",
       "      <td>-33.1</td>\n",
       "      <td>-80</td>\n",
       "      <td>224.9</td>\n",
       "      <td>3</td>\n",
       "      <td>None</td>\n",
       "      <td>None</td>\n",
       "      <td>2</td>\n",
       "    </tr>\n",
       "    <tr>\n",
       "      <th>2923223</th>\n",
       "      <td>2023-04-01 00:58:27</td>\n",
       "      <td>-80.4</td>\n",
       "      <td>-36.2</td>\n",
       "      <td>19.0</td>\n",
       "      <td>-84.4</td>\n",
       "      <td>-89.2</td>\n",
       "      <td>-54.7</td>\n",
       "      <td>26.2</td>\n",
       "      <td>28.9</td>\n",
       "      <td>-33.2</td>\n",
       "      <td>-80</td>\n",
       "      <td>224.6</td>\n",
       "      <td>3</td>\n",
       "      <td>None</td>\n",
       "      <td>None</td>\n",
       "      <td>6</td>\n",
       "    </tr>\n",
       "  </tbody>\n",
       "</table>\n",
       "<p>2923224 rows × 16 columns</p>\n",
       "</div>"
      ],
      "text/plain": [
       "                   Datetime   RTD  1st Suc.  Cond. Air In  Evap. In  \\\n",
       "0       2012-08-22 19:51:26 -70.0     -33.0          19.3     -83.0   \n",
       "1       2012-08-22 19:52:26 -71.3     -33.0          19.2     -83.0   \n",
       "2       2012-08-22 19:53:26 -72.4     -33.0          19.3     -83.0   \n",
       "3       2012-08-22 19:54:26 -73.1     -33.2          19.3     -83.0   \n",
       "4       2012-08-22 19:55:26 -74.0     -33.8          19.3     -83.0   \n",
       "...                     ...   ...       ...           ...       ...   \n",
       "2923219 2023-04-01 00:54:26 -80.1     -36.2          19.4     -84.3   \n",
       "2923220 2023-04-01 00:55:26 -80.2     -36.2          19.0     -84.4   \n",
       "2923221 2023-04-01 00:56:26 -80.2     -36.2          18.9     -84.4   \n",
       "2923222 2023-04-01 00:57:26 -80.3     -36.2          18.9     -84.4   \n",
       "2923223 2023-04-01 00:58:27 -80.4     -36.2          19.0     -84.4   \n",
       "\n",
       "         Evap. Out  2nd Suc.  Chil. water In  2nd Sump  H.E.  SetPoint  \\\n",
       "0            -77.6     -44.8            23.1      48.8 -34.0       -80   \n",
       "1            -80.4     -45.7            22.7      48.7 -34.0       -80   \n",
       "2            -84.2     -46.8            22.8      48.6 -34.0       -80   \n",
       "3            -86.1     -48.0            22.5      48.5 -34.0       -80   \n",
       "4            -87.0     -49.1            22.4      48.4 -34.0       -80   \n",
       "...            ...       ...             ...       ...   ...       ...   \n",
       "2923219      -89.2     -54.5            26.0      28.8 -32.9       -80   \n",
       "2923220      -89.2     -54.6            25.5      28.9 -33.0       -80   \n",
       "2923221      -89.1     -54.6            25.6      28.9 -32.9       -80   \n",
       "2923222      -89.3     -54.7            26.2      28.9 -33.1       -80   \n",
       "2923223      -89.2     -54.7            26.2      28.9 -33.2       -80   \n",
       "\n",
       "         Mains Voltage  State  Type Event  target  \n",
       "0                227.0      3  None  None       6  \n",
       "1                227.0      3  None  None       9  \n",
       "2                228.0      3  None  None       5  \n",
       "3                228.0      3  None  None       4  \n",
       "4                228.0      3  None  None       8  \n",
       "...                ...    ...   ...   ...     ...  \n",
       "2923219          224.5      3  None  None       5  \n",
       "2923220          225.4      3  None  None       4  \n",
       "2923221          225.4      3  None  None       9  \n",
       "2923222          224.9      3  None  None       2  \n",
       "2923223          224.6      3  None  None       6  \n",
       "\n",
       "[2923224 rows x 16 columns]"
      ]
     },
     "execution_count": 192,
     "metadata": {},
     "output_type": "execute_result"
    }
   ],
   "source": [
    "evaldatatrain = df\n",
    "evaldatatrain[\"target\"] = [int(random.randint(0, 9)) for i in range(len(evaldatatrain))]\n",
    "evaldatatrain"
   ]
  },
  {
   "cell_type": "code",
   "execution_count": 193,
   "metadata": {},
   "outputs": [],
   "source": [
    "inp = evaldatatrain.drop(columns=[\"target\", \"Datetime\", \"Type\", \"Event\"])\n",
    "time = evaldatatrain[\"Datetime\"]\n",
    "out = evaldatatrain[\"target\"]"
   ]
  },
  {
   "cell_type": "code",
   "execution_count": 194,
   "metadata": {},
   "outputs": [],
   "source": [
    "inp = torch.tensor(inp.values, dtype=torch.float32)\n",
    "out = torch.tensor(out.values, dtype=torch.int32)"
   ]
  },
  {
   "cell_type": "code",
   "execution_count": 195,
   "metadata": {},
   "outputs": [
    {
     "data": {
      "text/plain": [
       "tensor([6, 9, 5,  ..., 9, 2, 6], dtype=torch.int32)"
      ]
     },
     "execution_count": 195,
     "metadata": {},
     "output_type": "execute_result"
    }
   ],
   "source": [
    "out"
   ]
  },
  {
   "cell_type": "code",
   "execution_count": 196,
   "metadata": {},
   "outputs": [
    {
     "data": {
      "text/plain": [
       "974408"
      ]
     },
     "execution_count": 196,
     "metadata": {},
     "output_type": "execute_result"
    }
   ],
   "source": [
    "round(len(inp)/3)"
   ]
  },
  {
   "cell_type": "code",
   "execution_count": 197,
   "metadata": {},
   "outputs": [
    {
     "name": "stdout",
     "output_type": "stream",
     "text": [
      "Information on dataset\n",
      "x_train torch.Size([1000, 12])\n",
      "targets_train torch.Size([1000])\n",
      "x_valid torch.Size([1000, 12])\n",
      "targets_valid torch.Size([1000])\n",
      "x_test torch.Size([1000, 12])\n",
      "targets_test torch.Size([1000])\n"
     ]
    }
   ],
   "source": [
    "# To speed up training we'll only work on a subset of the data\n",
    "#x_train = inp[:round(len(inp)/3)]\n",
    "#targets_train = out[:round(len(inp)/3)]\n",
    "\n",
    "#x_valid = inp[round(len(inp)/3):round(2*len(inp)/3)]\n",
    "#targets_valid = out[round(len(inp)/3):round(2*len(inp)/3)]\n",
    "\n",
    "#x_test = inp[round(2*len(inp)/3):]\n",
    "#targets_test = out[round(2*len(inp)/3):]\n",
    "\n",
    "x_train = inp[:1000]\n",
    "targets_train = out[:1000]\n",
    "\n",
    "x_valid = inp[1000:2000]\n",
    "targets_valid = out[1000:2000]\n",
    "\n",
    "x_test = inp[2000:3000]\n",
    "targets_test = out[2000:3000]\n",
    "\n",
    "\n",
    "print(\"Information on dataset\")\n",
    "print(\"x_train\", x_train.shape)\n",
    "print(\"targets_train\", targets_train.shape)\n",
    "print(\"x_valid\", x_valid.shape)\n",
    "print(\"targets_valid\", targets_valid.shape)\n",
    "print(\"x_test\", x_test.shape)\n",
    "print(\"targets_test\", targets_test.shape)"
   ]
  },
  {
   "cell_type": "code",
   "execution_count": 198,
   "metadata": {},
   "outputs": [],
   "source": [
    "#Hyperparameters\n",
    "num_classes = 10\n",
    "num_l1 = 512\n",
    "num_features = x_train.shape[1]\n",
    "\n",
    "# define network\n",
    "class Net(nn.Module):\n",
    "\n",
    "    def __init__(self, num_features, num_hidden, num_output):\n",
    "        super(Net, self).__init__()  \n",
    "        # input layer\n",
    "        self.W_1 = Parameter(init.kaiming_uniform_(torch.Tensor(num_hidden, num_features)))\n",
    "        self.b_1 = Parameter(init.constant_(torch.Tensor(num_hidden), 0))\n",
    "        # batchNorm\n",
    "        self.norm1 = nn.BatchNorm1d(num_features=num_hidden)\n",
    "        # dropout layer\n",
    "        self.dropout = nn.Dropout(0.2)\n",
    "        # hidden layer 1\n",
    "        self.W_2 = Parameter(init.kaiming_uniform_(torch.Tensor(num_hidden, num_hidden)))\n",
    "        self.b_2 = Parameter(init.constant_(torch.Tensor(num_hidden), 0))\n",
    "        # hidden layer 2\n",
    "        self.W_3 = Parameter(init.kaiming_uniform_(torch.Tensor(num_output, num_hidden)))\n",
    "        self.b_3 = Parameter(init.constant_(torch.Tensor(num_output), 0))\n",
    "        # define activation function in constructor\n",
    "        self.activation = torch.nn.ReLU()\n",
    "\n",
    "    def forward(self, x):\n",
    "        x = self.dropout(x)\n",
    "\n",
    "        x = F.linear(x, self.W_1, self.b_1)\n",
    "        x = self.norm1(x)\n",
    "        x = self.activation(x)\n",
    "\n",
    "        x = F.linear(x, self.W_2, self.b_2)\n",
    "        x = self.activation(x)\n",
    "        x = F.linear(x, self.W_3, self.b_3)\n",
    "\n",
    "        return x\n",
    "\n",
    "\n",
    "net = Net(num_features, num_l1, num_classes)"
   ]
  },
  {
   "cell_type": "code",
   "execution_count": 199,
   "metadata": {},
   "outputs": [],
   "source": [
    "optimizer = optim.Adam(net.parameters(), lr=0.01, weight_decay=1e-2)\n",
    "criterion = nn.CrossEntropyLoss()"
   ]
  },
  {
   "cell_type": "code",
   "execution_count": 200,
   "metadata": {},
   "outputs": [
    {
     "name": "stdout",
     "output_type": "stream",
     "text": [
      "torch.Size([45, 10])\n"
     ]
    }
   ],
   "source": [
    "# Test the forward pass with dummy data\n",
    "x = np.random.normal(0, 1, (45, 12)).astype('float32')\n",
    "\n",
    "print(net(torch.from_numpy(x)).size())"
   ]
  },
  {
   "cell_type": "code",
   "execution_count": 201,
   "metadata": {},
   "outputs": [
    {
     "data": {
      "text/plain": [
       "tensor([[ 0.6164, -0.1948,  0.2103,  1.1434, -0.2069,  1.0179,  0.1416,  2.8032,\n",
       "          0.4818, -1.6700],\n",
       "        [ 1.6183,  1.4398, -0.9844,  0.8309,  0.7220, -0.9425,  0.0156,  2.0015,\n",
       "         -1.0306, -0.1388],\n",
       "        [-0.0871,  2.4764,  0.8730,  1.0274, -1.5435,  0.5462,  0.1050,  0.8656,\n",
       "         -1.3926,  1.0454],\n",
       "        [ 1.0892,  0.4456, -0.4799,  0.2913, -1.1441,  1.7665,  0.4208,  1.6753,\n",
       "          0.7315, -0.3674]], grad_fn=<AddmmBackward0>)"
      ]
     },
     "execution_count": 201,
     "metadata": {},
     "output_type": "execute_result"
    }
   ],
   "source": [
    "net(torch.from_numpy(np.random.normal(0, 1, (4, 12)).astype('float32')))"
   ]
  },
  {
   "cell_type": "code",
   "execution_count": 202,
   "metadata": {},
   "outputs": [
    {
     "data": {
      "text/plain": [
       "tensor([6, 9, 5, 4, 8, 6, 4, 7, 1, 4, 6, 2, 1, 1, 4, 2, 5, 3, 3, 4, 3, 9, 1, 4,\n",
       "        7, 5, 8, 4, 1, 2, 1, 7, 4, 2, 4, 2, 7, 6, 5, 5, 9, 7, 7, 3, 4, 3, 3, 8,\n",
       "        8, 0, 3, 6, 5, 3, 5, 9, 1, 3, 0, 9, 9, 5, 1, 1, 1, 4, 9, 5, 0, 5, 7, 9,\n",
       "        8, 8, 9, 5, 0, 9, 3, 6, 6, 3, 4, 4, 2, 2, 5, 8, 0, 3, 8, 2, 2, 0, 7, 8,\n",
       "        6, 6, 8, 3, 2, 9, 3, 9, 9, 1, 1, 8, 7, 8, 8, 3, 9, 5, 2, 7, 7, 3, 8, 5,\n",
       "        9, 4, 0, 4, 0, 2, 3, 7, 9, 8, 4, 9, 3, 6, 4, 4, 7, 2, 9, 7, 0, 4, 6, 8,\n",
       "        4, 9, 2, 8, 4, 2, 1, 0, 8, 6, 1, 3, 6, 2, 2, 3, 3, 9, 0, 1, 9, 3, 6, 4,\n",
       "        2, 6, 9, 7, 7, 7, 0, 5, 3, 2, 0, 5, 6, 6, 7, 9, 0, 0, 9, 9, 7, 5, 4, 4,\n",
       "        3, 4, 7, 8, 2, 7, 1, 5, 9, 7, 5, 2, 9, 2, 1, 7, 0, 2, 2, 1, 3, 9, 3, 9,\n",
       "        2, 6, 3, 1, 8, 2, 5, 6, 6, 3, 8, 5, 1, 7, 7, 0, 8, 4, 9, 9, 2, 3, 1, 0,\n",
       "        8, 5, 0, 1, 4, 5, 2, 8, 5, 7, 8, 9, 0, 2, 3, 3, 2, 7, 5, 0, 0, 1, 2, 2,\n",
       "        0, 5, 7, 9, 2, 5, 2, 4, 8, 7, 8, 6, 1, 0, 3, 5, 3, 9, 2, 2, 5, 4, 0, 7,\n",
       "        0, 4, 8, 6, 5, 5, 1, 1, 6, 1, 1, 9, 1, 1, 3, 3, 7, 1, 1, 7, 7, 7, 8, 4,\n",
       "        4, 6, 8, 5, 9, 4, 4, 5, 6, 1, 6, 7, 1, 1, 4, 9, 7, 3, 8, 6, 9, 3, 8, 6,\n",
       "        0, 2, 3, 0, 8, 8, 8, 9, 2, 3, 8, 5, 4, 8, 2, 6, 5, 8, 5, 1, 1, 2, 4, 9,\n",
       "        7, 1, 4, 2, 7, 7, 5, 1, 4, 9, 6, 3, 8, 1, 6, 2, 9, 3, 0, 2, 0, 3, 1, 4,\n",
       "        9, 3, 7, 5, 8, 9, 1, 5, 9, 0, 2, 3, 8, 6, 0, 3, 9, 2, 9, 9, 9, 6, 9, 1,\n",
       "        0, 1, 5, 8, 5, 1, 2, 6, 5, 0, 9, 1, 3, 9, 2, 1, 2, 2, 0, 2, 4, 4, 1, 5,\n",
       "        9, 5, 8, 1, 5, 6, 4, 8, 5, 7, 7, 1, 8, 9, 3, 4, 5, 2, 8, 3, 9, 1, 4, 1,\n",
       "        4, 3, 7, 9, 0, 6, 0, 4, 7, 4, 9, 4, 9, 1, 0, 9, 9, 3, 2, 2, 9, 9, 6, 0,\n",
       "        3, 8, 1, 0, 8, 9, 3, 9, 9, 3, 4, 5, 2, 1, 7, 3, 1, 4, 8, 4, 0, 7, 2, 6,\n",
       "        3, 2, 6, 2, 0, 0, 3, 1, 3, 8, 1, 7, 0, 3, 9, 5, 6, 3, 1, 3, 0, 8, 2, 6,\n",
       "        2, 0, 8, 3, 9, 6, 7, 5, 0, 3, 3, 6, 5, 9, 4, 0, 5, 6, 8, 0, 3, 2, 7, 7,\n",
       "        9, 1, 1, 3, 5, 0, 5, 8, 6, 5, 2, 7, 0, 0, 2, 1, 3, 6, 6, 5, 2, 7, 5, 5,\n",
       "        6, 6, 0, 7, 8, 4, 6, 0, 1, 8, 4, 5, 0, 4, 8, 6, 6, 0, 0, 6, 2, 9, 2, 3,\n",
       "        8, 7, 2, 1, 2, 9, 4, 6, 4, 3, 7, 9, 0, 1, 0, 4, 2, 3, 3, 0, 9, 1, 3, 3,\n",
       "        5, 1, 6, 8, 4, 1, 4, 6, 8, 9, 6, 1, 6, 0, 4, 8, 2, 1, 3, 2, 1, 9, 2, 5,\n",
       "        2, 4, 7, 9, 7, 7, 1, 7, 7, 4, 1, 2, 1, 2, 7, 9, 3, 4, 6, 1, 3, 6, 7, 2,\n",
       "        4, 9, 6, 4, 0, 4, 4, 9, 6, 2, 7, 5, 1, 3, 6, 5, 2, 7, 1, 9, 5, 1, 8, 0,\n",
       "        3, 1, 0, 6, 5, 0, 1, 9, 8, 2, 0, 8, 1, 4, 8, 2, 2, 3, 0, 6, 8, 4, 9, 4,\n",
       "        9, 1, 8, 0, 7, 5, 1, 5, 0, 4, 1, 3, 1, 6, 9, 0, 8, 5, 2, 4, 1, 1, 6, 5,\n",
       "        1, 4, 7, 3, 1, 0, 1, 6, 2, 1, 7, 8, 7, 0, 1, 1, 6, 6, 7, 5, 6, 4, 0, 0,\n",
       "        6, 6, 5, 1, 3, 5, 7, 7, 8, 3, 1, 1, 8, 8, 2, 2, 2, 0, 1, 1, 3, 1, 9, 7,\n",
       "        0, 5, 9, 1, 7, 0, 9, 2, 9, 2, 4, 8, 7, 5, 5, 3, 0, 7, 9, 0, 5, 1, 3, 5,\n",
       "        3, 8, 9, 7, 5, 9, 3, 6, 4, 0, 7, 1, 9, 3, 8, 4, 1, 9, 2, 6, 6, 6, 2, 0,\n",
       "        9, 0, 9, 3, 6, 8, 8, 1, 0, 5, 8, 0, 7, 6, 7, 8, 7, 0, 6, 7, 2, 5, 5, 5,\n",
       "        6, 6, 3, 7, 5, 2, 8, 8, 8, 1, 3, 5, 5, 1, 0, 1, 9, 7, 8, 2, 2, 1, 9, 4,\n",
       "        6, 5, 1, 1, 4, 9, 4, 3, 0, 4, 0, 7, 4, 7, 9, 8, 7, 9, 8, 5, 7, 0, 2, 7,\n",
       "        3, 0, 3, 3, 5, 4, 2, 0, 5, 7, 7, 8, 6, 9, 9, 9, 3, 8, 9, 1, 9, 0, 7, 9,\n",
       "        1, 4, 2, 0, 7, 2, 6, 6, 5, 2, 3, 3, 1, 3, 0, 5, 0, 9, 3, 1, 4, 8, 7, 7,\n",
       "        3, 8, 5, 8, 7, 2, 0, 4, 7, 1, 8, 4, 0, 9, 9, 5, 3, 0, 6, 6, 6, 9, 6, 8,\n",
       "        9, 4, 6, 3, 6, 3, 9, 8, 5, 8, 6, 7, 9, 6, 3, 1], dtype=torch.int32)"
      ]
     },
     "execution_count": 202,
     "metadata": {},
     "output_type": "execute_result"
    }
   ],
   "source": [
    "targets_train"
   ]
  },
  {
   "cell_type": "code",
   "execution_count": 203,
   "metadata": {},
   "outputs": [
    {
     "data": {
      "text/plain": [
       "tensor([6, 9, 5, 4, 8, 6, 4, 7, 1, 4, 6, 2, 1, 1, 4, 2, 5, 3, 3, 4, 3, 9, 1, 4,\n",
       "        7, 5, 8, 4, 1, 2, 1, 7, 4, 2, 4, 2, 7, 6, 5, 5, 9, 7, 7, 3, 4, 3, 3, 8,\n",
       "        8, 0, 3, 6, 5, 3, 5, 9, 1, 3, 0, 9, 9, 5, 1, 1, 1, 4, 9, 5, 0, 5, 7, 9,\n",
       "        8, 8, 9, 5, 0, 9, 3, 6, 6, 3, 4, 4, 2, 2, 5, 8, 0, 3, 8, 2, 2, 0, 7, 8,\n",
       "        6, 6, 8, 3, 2, 9, 3, 9, 9, 1, 1, 8, 7, 8, 8, 3, 9, 5, 2, 7, 7, 3, 8, 5,\n",
       "        9, 4, 0, 4, 0, 2, 3, 7, 9, 8, 4, 9, 3, 6, 4, 4, 7, 2, 9, 7, 0, 4, 6, 8,\n",
       "        4, 9, 2, 8, 4, 2, 1, 0, 8, 6, 1, 3, 6, 2, 2, 3, 3, 9, 0, 1, 9, 3, 6, 4,\n",
       "        2, 6, 9, 7, 7, 7, 0, 5, 3, 2, 0, 5, 6, 6, 7, 9, 0, 0, 9, 9, 7, 5, 4, 4,\n",
       "        3, 4, 7, 8, 2, 7, 1, 5, 9, 7, 5, 2, 9, 2, 1, 7, 0, 2, 2, 1, 3, 9, 3, 9,\n",
       "        2, 6, 3, 1, 8, 2, 5, 6, 6, 3, 8, 5, 1, 7, 7, 0, 8, 4, 9, 9, 2, 3, 1, 0,\n",
       "        8, 5, 0, 1, 4, 5, 2, 8, 5, 7, 8, 9, 0, 2, 3, 3, 2, 7, 5, 0, 0, 1, 2, 2,\n",
       "        0, 5, 7, 9, 2, 5, 2, 4, 8, 7, 8, 6, 1, 0, 3, 5, 3, 9, 2, 2, 5, 4, 0, 7,\n",
       "        0, 4, 8, 6, 5, 5, 1, 1, 6, 1, 1, 9, 1, 1, 3, 3, 7, 1, 1, 7, 7, 7, 8, 4,\n",
       "        4, 6, 8, 5, 9, 4, 4, 5, 6, 1, 6, 7, 1, 1, 4, 9, 7, 3, 8, 6, 9, 3, 8, 6,\n",
       "        0, 2, 3, 0, 8, 8, 8, 9, 2, 3, 8, 5, 4, 8, 2, 6, 5, 8, 5, 1, 1, 2, 4, 9,\n",
       "        7, 1, 4, 2, 7, 7, 5, 1, 4, 9, 6, 3, 8, 1, 6, 2, 9, 3, 0, 2, 0, 3, 1, 4,\n",
       "        9, 3, 7, 5, 8, 9, 1, 5, 9, 0, 2, 3, 8, 6, 0, 3, 9, 2, 9, 9, 9, 6, 9, 1,\n",
       "        0, 1, 5, 8, 5, 1, 2, 6, 5, 0, 9, 1, 3, 9, 2, 1, 2, 2, 0, 2, 4, 4, 1, 5,\n",
       "        9, 5, 8, 1, 5, 6, 4, 8, 5, 7, 7, 1, 8, 9, 3, 4, 5, 2, 8, 3, 9, 1, 4, 1,\n",
       "        4, 3, 7, 9, 0, 6, 0, 4, 7, 4, 9, 4, 9, 1, 0, 9, 9, 3, 2, 2, 9, 9, 6, 0,\n",
       "        3, 8, 1, 0, 8, 9, 3, 9, 9, 3, 4, 5, 2, 1, 7, 3, 1, 4, 8, 4, 0, 7, 2, 6,\n",
       "        3, 2, 6, 2, 0, 0, 3, 1, 3, 8, 1, 7, 0, 3, 9, 5, 6, 3, 1, 3, 0, 8, 2, 6,\n",
       "        2, 0, 8, 3, 9, 6, 7, 5, 0, 3, 3, 6, 5, 9, 4, 0, 5, 6, 8, 0, 3, 2, 7, 7,\n",
       "        9, 1, 1, 3, 5, 0, 5, 8, 6, 5, 2, 7, 0, 0, 2, 1, 3, 6, 6, 5, 2, 7, 5, 5,\n",
       "        6, 6, 0, 7, 8, 4, 6, 0, 1, 8, 4, 5, 0, 4, 8, 6, 6, 0, 0, 6, 2, 9, 2, 3,\n",
       "        8, 7, 2, 1, 2, 9, 4, 6, 4, 3, 7, 9, 0, 1, 0, 4, 2, 3, 3, 0, 9, 1, 3, 3,\n",
       "        5, 1, 6, 8, 4, 1, 4, 6, 8, 9, 6, 1, 6, 0, 4, 8, 2, 1, 3, 2, 1, 9, 2, 5,\n",
       "        2, 4, 7, 9, 7, 7, 1, 7, 7, 4, 1, 2, 1, 2, 7, 9, 3, 4, 6, 1, 3, 6, 7, 2,\n",
       "        4, 9, 6, 4, 0, 4, 4, 9, 6, 2, 7, 5, 1, 3, 6, 5, 2, 7, 1, 9, 5, 1, 8, 0,\n",
       "        3, 1, 0, 6, 5, 0, 1, 9, 8, 2, 0, 8, 1, 4, 8, 2, 2, 3, 0, 6, 8, 4, 9, 4,\n",
       "        9, 1, 8, 0, 7, 5, 1, 5, 0, 4, 1, 3, 1, 6, 9, 0, 8, 5, 2, 4, 1, 1, 6, 5,\n",
       "        1, 4, 7, 3, 1, 0, 1, 6, 2, 1, 7, 8, 7, 0, 1, 1, 6, 6, 7, 5, 6, 4, 0, 0,\n",
       "        6, 6, 5, 1, 3, 5, 7, 7, 8, 3, 1, 1, 8, 8, 2, 2, 2, 0, 1, 1, 3, 1, 9, 7,\n",
       "        0, 5, 9, 1, 7, 0, 9, 2, 9, 2, 4, 8, 7, 5, 5, 3, 0, 7, 9, 0, 5, 1, 3, 5,\n",
       "        3, 8, 9, 7, 5, 9, 3, 6, 4, 0, 7, 1, 9, 3, 8, 4, 1, 9, 2, 6, 6, 6, 2, 0,\n",
       "        9, 0, 9, 3, 6, 8, 8, 1, 0, 5, 8, 0, 7, 6, 7, 8, 7, 0, 6, 7, 2, 5, 5, 5,\n",
       "        6, 6, 3, 7, 5, 2, 8, 8, 8, 1, 3, 5, 5, 1, 0, 1, 9, 7, 8, 2, 2, 1, 9, 4,\n",
       "        6, 5, 1, 1, 4, 9, 4, 3, 0, 4, 0, 7, 4, 7, 9, 8, 7, 9, 8, 5, 7, 0, 2, 7,\n",
       "        3, 0, 3, 3, 5, 4, 2, 0, 5, 7, 7, 8, 6, 9, 9, 9, 3, 8, 9, 1, 9, 0, 7, 9,\n",
       "        1, 4, 2, 0, 7, 2, 6, 6, 5, 2, 3, 3, 1, 3, 0, 5, 0, 9, 3, 1, 4, 8, 7, 7,\n",
       "        3, 8, 5, 8, 7, 2, 0, 4, 7, 1, 8, 4, 0, 9, 9, 5, 3, 0, 6, 6, 6, 9, 6, 8,\n",
       "        9, 4, 6, 3, 6, 3, 9, 8, 5, 8, 6, 7, 9, 6, 3, 1])"
      ]
     },
     "execution_count": 203,
     "metadata": {},
     "output_type": "execute_result"
    }
   ],
   "source": [
    "targets_train = targets_train.long()\n",
    "targets_train"
   ]
  },
  {
   "cell_type": "code",
   "execution_count": 204,
   "metadata": {},
   "outputs": [
    {
     "name": "stdout",
     "output_type": "stream",
     "text": [
      "Epoch  1 : Train Loss 0.508257 , Train acc 0.101000, Valid acc 0.099000\n",
      "Epoch 11 : Train Loss 0.232034 , Train acc 0.116000, Valid acc 0.110000\n",
      "Epoch 21 : Train Loss 0.229929 , Train acc 0.116000, Valid acc 0.110000\n",
      "Epoch 31 : Train Loss 0.229959 , Train acc 0.116000, Valid acc 0.110000\n",
      "Epoch 41 : Train Loss 0.229959 , Train acc 0.116000, Valid acc 0.110000\n",
      "Epoch 51 : Train Loss 0.229959 , Train acc 0.116000, Valid acc 0.110000\n",
      "Epoch 61 : Train Loss 0.229958 , Train acc 0.116000, Valid acc 0.110000\n",
      "Epoch 71 : Train Loss 0.229957 , Train acc 0.116000, Valid acc 0.110000\n",
      "Epoch 81 : Train Loss 0.229957 , Train acc 0.116000, Valid acc 0.110000\n",
      "Epoch 91 : Train Loss 0.229957 , Train acc 0.116000, Valid acc 0.110000\n",
      "Epoch 101 : Train Loss 0.229957 , Train acc 0.116000, Valid acc 0.110000\n",
      "Epoch 111 : Train Loss 0.229957 , Train acc 0.116000, Valid acc 0.110000\n",
      "Epoch 121 : Train Loss 0.229957 , Train acc 0.116000, Valid acc 0.110000\n",
      "Epoch 131 : Train Loss 0.229957 , Train acc 0.116000, Valid acc 0.110000\n",
      "Epoch 141 : Train Loss 0.229957 , Train acc 0.116000, Valid acc 0.110000\n",
      "Epoch 151 : Train Loss 0.229958 , Train acc 0.116000, Valid acc 0.110000\n",
      "Epoch 161 : Train Loss 0.229958 , Train acc 0.116000, Valid acc 0.110000\n",
      "Epoch 171 : Train Loss 0.229958 , Train acc 0.116000, Valid acc 0.110000\n",
      "Epoch 181 : Train Loss 0.229958 , Train acc 0.116000, Valid acc 0.110000\n",
      "Epoch 191 : Train Loss 0.229958 , Train acc 0.116000, Valid acc 0.110000\n"
     ]
    },
    {
     "data": {
      "text/plain": [
       "(Text(0.5, 0, 'Updates'), Text(0, 0.5, 'Acc'))"
      ]
     },
     "execution_count": 204,
     "metadata": {},
     "output_type": "execute_result"
    },
    {
     "data": {
      "image/png": "[encoded data removed]",
      "text/plain": [
       "<Figure size 640x480 with 1 Axes>"
      ]
     },
     "metadata": {},
     "output_type": "display_data"
    }
   ],
   "source": [
    "# we could have done this ourselves,\n",
    "# but we should be aware of sklearn and its tools\n",
    "from sklearn.metrics import accuracy_score\n",
    "\n",
    "\n",
    "# setting hyperparameters and gettings epoch sizes\n",
    "batch_size = 100\n",
    "num_epochs = 200\n",
    "num_samples_train = x_train.shape[0]\n",
    "num_batches_train = num_samples_train // batch_size\n",
    "num_samples_valid = x_valid.shape[0]\n",
    "num_batches_valid = num_samples_valid // batch_size\n",
    "\n",
    "# setting up lists for handling loss/accuracy\n",
    "train_acc, train_loss = [], []\n",
    "valid_acc, valid_loss = [], []\n",
    "test_acc, test_loss = [], []\n",
    "cur_loss = 0\n",
    "losses = []\n",
    "\n",
    "get_slice = lambda i, size: range(i * size, (i + 1) * size)\n",
    "\n",
    "for epoch in range(num_epochs):\n",
    "    # Forward -> Backprob -> Update params\n",
    "    ## Train\n",
    "    cur_loss = 0\n",
    "    net.train()\n",
    "    for i in range(num_batches_train):\n",
    "        optimizer.zero_grad()\n",
    "        slce = get_slice(i, batch_size)\n",
    "        output = net(x_train[slce])\n",
    "        \n",
    "        # compute gradients given loss\n",
    "        target_batch = targets_train[slce]\n",
    "        batch_loss = criterion(output, target_batch)\n",
    "        batch_loss.backward()\n",
    "        optimizer.step()\n",
    "        \n",
    "        cur_loss += batch_loss   \n",
    "    losses.append(cur_loss / batch_size)\n",
    "\n",
    "    net.eval()\n",
    "    ### Evaluate training\n",
    "    train_preds, train_targs = [], []\n",
    "    for i in range(num_batches_train):\n",
    "        slce = get_slice(i, batch_size)\n",
    "        output = net(x_train[slce])\n",
    "        \n",
    "        preds = torch.max(output, 1)[1]\n",
    "        \n",
    "        train_targs += list(targets_train[slce].numpy())\n",
    "        train_preds += list(preds.data.numpy())\n",
    "    \n",
    "    ### Evaluate validation\n",
    "    val_preds, val_targs = [], []\n",
    "    for i in range(num_batches_valid):\n",
    "        slce = get_slice(i, batch_size)\n",
    "        \n",
    "        output = net(x_valid[slce])\n",
    "        preds = torch.max(output, 1)[1]\n",
    "        val_targs += list(targets_valid[slce].numpy())\n",
    "        val_preds += list(preds.data.numpy())\n",
    "        \n",
    "\n",
    "    train_acc_cur = accuracy_score(train_targs, train_preds)\n",
    "    valid_acc_cur = accuracy_score(val_targs, val_preds)\n",
    "    \n",
    "    train_acc.append(train_acc_cur)\n",
    "    valid_acc.append(valid_acc_cur)\n",
    "    \n",
    "    if epoch % 10 == 0:\n",
    "        print(\"Epoch %2i : Train Loss %f , Train acc %f, Valid acc %f\" % (\n",
    "                epoch+1, losses[-1], train_acc_cur, valid_acc_cur))\n",
    "\n",
    "epoch = np.arange(len(train_acc))\n",
    "plt.figure()\n",
    "plt.plot(epoch, train_acc, 'r', epoch, valid_acc, 'b')\n",
    "plt.legend(['Train Accucary','Validation Accuracy'])\n",
    "plt.xlabel('Updates'), plt.ylabel('Acc')"
   ]
  },
  {
   "cell_type": "code",
   "execution_count": 205,
   "metadata": {},
   "outputs": [
    {
     "data": {
      "text/plain": [
       "Net(\n",
       "  (norm1): BatchNorm1d(512, eps=1e-05, momentum=0.1, affine=True, track_running_stats=True)\n",
       "  (dropout): Dropout(p=0.2, inplace=False)\n",
       "  (activation): ReLU()\n",
       ")"
      ]
     },
     "execution_count": 205,
     "metadata": {},
     "output_type": "execute_result"
    }
   ],
   "source": [
    "net.eval()"
   ]
  },
  {
   "cell_type": "code",
   "execution_count": 206,
   "metadata": {},
   "outputs": [
    {
     "data": {
      "text/plain": [
       "tensor([[-0.0144,  0.1411, -0.0062,  0.0452, -0.0936, -0.0543, -0.0526, -0.0264,\n",
       "         -0.0550,  0.1138]], grad_fn=<AddmmBackward0>)"
      ]
     },
     "execution_count": 206,
     "metadata": {},
     "output_type": "execute_result"
    }
   ],
   "source": [
    "output = net(x_test[100].unsqueeze(0))\n",
    "output"
   ]
  },
  {
   "cell_type": "code",
   "execution_count": 207,
   "metadata": {},
   "outputs": [
    {
     "data": {
      "text/plain": [
       "tensor([1])"
      ]
     },
     "execution_count": 207,
     "metadata": {},
     "output_type": "execute_result"
    }
   ],
   "source": [
    "predictedclass = torch.argmax(output, dim=1)\n",
    "predictedclass"
   ]
  },
  {
   "cell_type": "code",
   "execution_count": 208,
   "metadata": {},
   "outputs": [
    {
     "data": {
      "text/plain": [
       "<sklearn.metrics._plot.confusion_matrix.ConfusionMatrixDisplay at 0x1d6f3d950>"
      ]
     },
     "execution_count": 208,
     "metadata": {},
     "output_type": "execute_result"
    },
    {
     "data": {
      "image/png": "[encoded data removed]",
      "text/plain": [
       "<Figure size 640x480 with 2 Axes>"
      ]
     },
     "metadata": {},
     "output_type": "display_data"
    }
   ],
   "source": [
    "from sklearn.metrics import confusion_matrix, ConfusionMatrixDisplay\n",
    "\n",
    "\n",
    "predictedclass = torch.argmax(net(x_test), dim=1)\n",
    "\n",
    "cm = confusion_matrix(targets_test, predictedclass)\n",
    "ConfusionMatrixDisplay(cm).plot()"
   ]
  },
  {
   "cell_type": "code",
   "execution_count": 212,
   "metadata": {},
   "outputs": [],
   "source": [
    "binarypredictedclass = [1 if i > 0 else 0 for i in predictedclass]\n",
    "binarytargets_test = [1 if i > 0 else 0 for i in targets_test]"
   ]
  },
  {
   "cell_type": "code",
   "execution_count": 210,
   "metadata": {},
   "outputs": [
    {
     "data": {
      "text/plain": [
       "<sklearn.metrics._plot.confusion_matrix.ConfusionMatrixDisplay at 0x19de50f90>"
      ]
     },
     "execution_count": 210,
     "metadata": {},
     "output_type": "execute_result"
    },
    {
     "data": {
      "image/png": "[encoded data removed]",
      "text/plain": [
       "<Figure size 640x480 with 2 Axes>"
      ]
     },
     "metadata": {},
     "output_type": "display_data"
    }
   ],
   "source": [
    "cm = confusion_matrix(binarytargets_test, binarypredictedclass)\n",
    "ConfusionMatrixDisplay(cm).plot()"
   ]
  },
  {
   "cell_type": "code",
   "execution_count": 211,
   "metadata": {},
   "outputs": [
    {
     "name": "stdout",
     "output_type": "stream",
     "text": [
      "Unikke værdier: tensor([0, 1, 2, 3, 4, 5, 6, 7, 8, 9])\n",
      "Hyppigheder: tensor([ 98, 116,  99, 105,  90,  94,  94,  97,  94, 113])\n"
     ]
    }
   ],
   "source": [
    "unique_values, counts = torch.unique(targets_train, return_counts=True)\n",
    "\n",
    "print(\"Unikke værdier:\", unique_values)\n",
    "print(\"Hyppigheder:\", counts)"
   ]
  }
 ],
 "metadata": {
  "kernelspec": {
   "display_name": "[neuralnetwork]",
   "language": "python",
   "name": "python3"
  },
  "language_info": {
   "codemirror_mode": {
    "name": "ipython",
    "version": 3
   },
   "file_extension": ".py",
   "mimetype": "text/x-python",
   "name": "python",
   "nbconvert_exporter": "python",
   "pygments_lexer": "ipython3",
   "version": "3.11.10"
  }
 },
 "nbformat": 4,
 "nbformat_minor": 2
}
